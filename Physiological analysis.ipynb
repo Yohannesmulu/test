{
    "cells": [
        {
            "cell_type": "code",
            "execution_count": 1,
            "metadata": {},
            "outputs": [
                {
                    "name": "stdout",
                    "output_type": "stream",
                    "text": "Waiting for a Spark session to start...\nSpark Initialization Done! ApplicationId = app-20210117210859-0000\nKERNEL_ID = 58be471c-7735-4b3c-b448-5c0715dbf899\n"
                },
                {
                    "data": {
                        "text/plain": "[Row(ABPmean='118', HR='75', PULSE='75', RESP='23', SpO2='99', Class='NORMAL'),\n Row(ABPmean='118', HR='76', PULSE='75', RESP='23', SpO2='99', Class='NORMAL'),\n Row(ABPmean='118', HR='76', PULSE='76', RESP='22', SpO2='99', Class='NORMAL'),\n Row(ABPmean='118', HR='76', PULSE='76', RESP='22', SpO2='99', Class='NORMAL'),\n Row(ABPmean='118', HR='76', PULSE='76', RESP='22', SpO2='99', Class='NORMAL')]"
                    },
                    "execution_count": 1,
                    "metadata": {},
                    "output_type": "execute_result"
                }
            ],
            "source": "# The code was removed by Watson Studio for sharing."
        }
    ],
    "metadata": {
        "kernelspec": {
            "display_name": "Python 3.7 with Spark",
            "language": "python3",
            "name": "python37"
        },
        "language_info": {
            "codemirror_mode": {
                "name": "ipython",
                "version": 3
            },
            "file_extension": ".py",
            "mimetype": "text/x-python",
            "name": "python",
            "nbconvert_exporter": "python",
            "pygments_lexer": "ipython3",
            "version": "3.7.9"
        }
    },
    "nbformat": 4,
    "nbformat_minor": 1
}